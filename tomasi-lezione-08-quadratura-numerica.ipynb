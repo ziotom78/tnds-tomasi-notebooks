{
 "cells": [
  {
   "cell_type": "markdown",
   "metadata": {},
   "source": [
    "# Lezione 8 − Quadratura numerica"
   ]
  },
  {
   "cell_type": "markdown",
   "metadata": {},
   "source": [
    "In questo documento mostro come implementare gli algoritmi di integrazione numerica visti durante la lezione 8. È una utile traccia per capire quali risultati dovete aspettarvi. Invece di fornire gli esempi di codice in C++, ho scelto di usare il linguaggio Julia, per i seguenti motivi:\n",
    "\n",
    "1. Non fornendo codici C++, vi obbligo ad implementare tutto da soli;\n",
    "2. Il linguaggio Julia è molto semplice da leggere, e non richiede competenze particolari per essere compreso;\n",
    "3. Essendo questo un _notebook_, include sia le spiegazioni che gli esempi di codice e gli output.\n",
    "\n",
    "Tenete conto in Julia non esiste incapsulamento, e l'ereditarietà e il polimorfismo sono implementati in maniera diversa dal C++, quindi il modo in cui sono implementati i codici è profondamente diverso. L'approccio di Julia è molto più semplice e intuitivo, e non dovrebbe essere difficile per voi capire cosa faccia il codice."
   ]
  },
  {
   "cell_type": "markdown",
   "metadata": {},
   "source": [
    "## Installazione di Julia"
   ]
  },
  {
   "cell_type": "markdown",
   "metadata": {},
   "source": [
    "Questo documento è un _notebook_ creato con Jupyter, un sistema che consente di creare file che contengono testi, tabelle, immagini e parti di codice. È ad oggi il metodo più diffuso per fare analisi di dati scientifici. Jupyter è nato per supportare tre linguaggi: Julia, Python, e R (da cui il nome: Ju-Pyt-e-R), anche se sono nel tempo stati sviluppati moduli per usare altri linguaggi.\n",
    "\n",
    "Julia è un linguaggio di programmazione moderno pensato soprattutto per la scrittura di codici numerici e scientifici. È molto più semplice del C++ e nel contempo estremamente potente. Non è consigliabile installare Julia sui computer del laboratorio, a causa dello scarso spazio disponibile nelle home. Le istruzioni in questo paragrafo possono esservi utili se desiderate installare Julia sul vostro computer.\n",
    "\n",
    "Scaricate l'eseguibile per il vostro ambiente dal sito https://julialang.org/ (al momento la versione più recente è la 1.2, ma la 1.3 è prevista a breve). Avviate poi Julia (da Linux eseguite `julia`, mentre sotto Windows e Mac OS X dovrebbe essere presente un'icona), ed installate alcuni pacchetti che saranno utili per questa lezione e la prossima.\n",
    "\n",
    "```julia\n",
    "import Pkg\n",
    "Pkg.add(\"PyPlot\")\n",
    "Pkg.add(\"IJulia\")\n",
    "```\n",
    "\n",
    "Una volta eseguiti i comandi, potete aprire notebook esistenti e crearne di nuovi con questo codice:\n",
    "\n",
    "```julia\n",
    "import IJulia\n",
    "IJulia.jupyterlab(dir=\".\")\n",
    "```\n",
    "\n",
    "Appena eseguita l'istruzione, dovrebbe aprirsi il vostro browser Internet (Firefox, Safari, …) e mostrare la pagina di Jupyter-Lab, l'interfaccia che consente di gestire i notebook."
   ]
  },
  {
   "cell_type": "markdown",
   "metadata": {},
   "source": [
    "## Introduzione"
   ]
  },
  {
   "cell_type": "markdown",
   "metadata": {},
   "source": [
    "Iniziamo col caricare due librerie che ci serviranno. In Julia si caricano librerie col comando `import` (l'analogo di `#include` in C++):\n",
    "\n",
    "```julia\n",
    "import Statistics\n",
    "\n",
    "# In C++ si sarebbe scritto: Statistics::mean\n",
    "# (\"Statistics\" è un namespace)\n",
    "Statistics.mean([1, 2, 3])\n",
    "```\n",
    "\n",
    "Esiste il comando `using`, che equivale alla combinazione in C++ di `#include` e `using namespace`:\n",
    "\n",
    "```julia\n",
    "using Statistics\n",
    "\n",
    "mean([1, 2, 3])\n",
    "```\n",
    "\n",
    "Le librerie che ci interessano sono Plots (per produrre grafici, come ROOT in C++) e Printf (per scrivere valori formattati sullo schermo, come in C++ `setprecision`, `setw`, etc.)"
   ]
  },
  {
   "cell_type": "code",
   "execution_count": 1,
   "metadata": {},
   "outputs": [],
   "source": [
    "using PyPlot\n",
    "using Printf"
   ]
  },
  {
   "cell_type": "markdown",
   "metadata": {},
   "source": [
    "Nella lezione di oggi dovremo calcolare numericamente degli integrali. Useremo come esempio la funzione $f(x) = \\sin(x)$, sapendo che\n",
    "$$\n",
    "\\int_0^\\pi \\sin x\\,\\text{d}x = 2.\n",
    "$$"
   ]
  },
  {
   "cell_type": "markdown",
   "metadata": {},
   "source": [
    "Useremo molto anche la capacità di Julia di creare liste al volo mediante la sintassi\n",
    "\n",
    "```julia\n",
    "result = [f(x) for x in lista]\n",
    "```\n",
    "che equivale al codice seguente:\n",
    "```julia\n",
    "result = []\n",
    "for elem in lista\n",
    "    append!(result, f(elem))\n",
    "end\n",
    "```\n",
    "\n",
    "Vediamo un esempio: creiamo un array `prova` che contenga il quadrato dei valori `[1, 2, 3]`. In C++ avremmo dovuto scrivere\n",
    "\n",
    "```c++\n",
    "std::vector<int> list{1, 2, 3};\n",
    "std::vector<int> prova(3);\n",
    "for (int i = 0; i < list.size(); ++i) {\n",
    "    prova[i] = list[i] * list[i];\n",
    "}\n",
    "```\n",
    "\n",
    "In Julia è tutto molto più semplice:"
   ]
  },
  {
   "cell_type": "code",
   "execution_count": 2,
   "metadata": {},
   "outputs": [
    {
     "data": {
      "text/plain": [
       "3-element Array{Int64,1}:\n",
       " 1\n",
       " 4\n",
       " 9"
      ]
     },
     "execution_count": 2,
     "metadata": {},
     "output_type": "execute_result"
    }
   ],
   "source": [
    "prova = [x * x for x in [1, 2, 3]]"
   ]
  },
  {
   "cell_type": "markdown",
   "metadata": {},
   "source": [
    "## Metodo del mid-point"
   ]
  },
  {
   "cell_type": "markdown",
   "metadata": {},
   "source": [
    "Il metodo del mid-point consiste nell'approssimare l'integrale con il valore del punto della funzione $f$ nel punto medio dell'intervallo:\n",
    "$$\n",
    "\\int_a^b f(x)\\,\\text{d}x \\approx \\sum_{k=0}^{n - 1} f\\Biggl(a + \\left(k + \\frac12\\right)h\\Biggr).\n",
    "$$\n",
    "\n",
    "In Julia non esistono classi, quindi non è possibile definire una classe `Integral`. Ma ciò non è necessario, perché vedremo più tardi che in Julia il polimorfismo non viene implementato tramite classi, bensì tramite il cosiddetto _multiple dispatch_, più adatto ai casi numerici e scientifici.\n",
    "\n",
    "Non preoccupiamoci quindi di definire classi, ma implementiamo il metodo del mid-point tramite una semplice funzione `midpoint`. Non specifichiamo il tipo di `f`, né di `a` o di `b`, ma specifichiamo quello di `n`: il motivo sarà chiaro quando risolveremo l'esercizio 8.2. Il tipo `Integer` è l'analogo di una classe astratta in C++, ed è il padre di tutti quei tipi che rappresentano numeri interi (`Int`, `Int8`, `UInt32`, etc.). Stiamo in pratica dicendo a Julia che `midpoint` può accettare qualsiasi tipo di valore per `f`, `a` e `b`, ma `n` deve essere un numero intero."
   ]
  },
  {
   "cell_type": "code",
   "execution_count": 3,
   "metadata": {},
   "outputs": [
    {
     "data": {
      "text/plain": [
       "midpoint (generic function with 1 method)"
      ]
     },
     "execution_count": 3,
     "metadata": {},
     "output_type": "execute_result"
    }
   ],
   "source": [
    "function midpoint(f, a, b, n::Integer)\n",
    "    h = (b - a) / n\n",
    "    h * sum([f(a + (k + 0.5) * h) for k in 0:(n - 1)])\n",
    "end"
   ]
  },
  {
   "cell_type": "markdown",
   "metadata": {},
   "source": [
    "Verifichiamone il funzionamento:"
   ]
  },
  {
   "cell_type": "code",
   "execution_count": 4,
   "metadata": {},
   "outputs": [
    {
     "data": {
      "text/plain": [
       "2.0082484079079745"
      ]
     },
     "execution_count": 4,
     "metadata": {},
     "output_type": "execute_result"
    }
   ],
   "source": [
    "midpoint(sin, 0, pi, 10)"
   ]
  },
  {
   "cell_type": "markdown",
   "metadata": {},
   "source": [
    "Questo caso è utile per implementare nel vostro codice C++ un `assert`:\n",
    "\n",
    "```c++\n",
    "const double REF_A = 0.0;\n",
    "const double REF_B = M_PI;\n",
    "const double REF_INTEGRAL = 2.0082484079;\n",
    "\n",
    "int main(void) {\n",
    "    Seno mysin();\n",
    "    Integrator integrator(REF_A, REF_B, &mysin);\n",
    "    assert(fabs(integrator.MidPoint(10) - REF_INTEGRAL) < 1e-7);\n",
    "}\n",
    "```"
   ]
  },
  {
   "cell_type": "code",
   "execution_count": 5,
   "metadata": {},
   "outputs": [
    {
     "data": {
      "text/plain": [
       "2.000082249070986"
      ]
     },
     "execution_count": 5,
     "metadata": {},
     "output_type": "execute_result"
    }
   ],
   "source": [
    "midpoint(sin, 0, pi, 100)"
   ]
  },
  {
   "cell_type": "code",
   "execution_count": 6,
   "metadata": {},
   "outputs": [
    {
     "data": {
      "text/plain": [
       "-2.0082484079079745"
      ]
     },
     "execution_count": 6,
     "metadata": {},
     "output_type": "execute_result"
    }
   ],
   "source": [
    "midpoint(sin, pi, 0, 10)"
   ]
  },
  {
   "cell_type": "markdown",
   "metadata": {},
   "source": [
    "Notate la semplicità con cui è stata chiamata la funzione: a differenza della programmazione OOP in C++, qui non abbiamo dovuto creare una classe `Seno` con un metodo `Eval` che chiamasse `sin`. È stato sufficiente invocare `midpoint` passandole `sin` come primo argomento."
   ]
  },
  {
   "cell_type": "markdown",
   "metadata": {},
   "source": [
    "Il caso $\\int_0^\\pi \\sin(x)\\,\\mathrm{d}t$ è troppo particolare per poter essere un buon caso per i test, perché (1) l'estremo inferiore è zero, e (2) la funzione si annulla negli estremi di integrazione. Alcune formule di integrazione che vedremo oggi richiedono un trattamento speciale agli estremi di integrazione, e un caso come questo potrebbe far passare inosservati dei bug importanti (**è successo in passato**!). Calcoliamo il valore dell'integrale con questo algoritmo in due casi più rappresentativi: $$\\int_0^1 \\sin(x)\\,\\mathrm{d}t, \\quad \\int_1^2 \\sin(x)\\,\\mathrm{d}t.$$"
   ]
  },
  {
   "cell_type": "code",
   "execution_count": 7,
   "metadata": {},
   "outputs": [
    {
     "data": {
      "text/plain": [
       "0.45988929071851814"
      ]
     },
     "execution_count": 7,
     "metadata": {},
     "output_type": "execute_result"
    }
   ],
   "source": [
    "midpoint(sin, 0, 1, 10)"
   ]
  },
  {
   "cell_type": "code",
   "execution_count": 8,
   "metadata": {},
   "outputs": [
    {
     "data": {
      "text/plain": [
       "0.9564934239032155"
      ]
     },
     "execution_count": 8,
     "metadata": {},
     "output_type": "execute_result"
    }
   ],
   "source": [
    "midpoint(sin, 1, 2, 30)"
   ]
  },
  {
   "cell_type": "markdown",
   "metadata": {},
   "source": [
    "In C++ potremmo quindi scrivere il `main` del nostro programma con due istruzioni che verifichino il funzionamento del metodo `MidPoint` su questi due casi:"
   ]
  },
  {
   "cell_type": "markdown",
   "metadata": {},
   "source": [
    "```c++\n",
    "int main(void) {\n",
    "    Seno mysin();\n",
    "    Integrator integrator(&mysin);\n",
    "\n",
    "    assert(fabs(integrator.MidPoint(0, 1, 10)\n",
    "                - 0.45988929071851814) < 1e-7);\n",
    "    \n",
    "    integrator.set_a(1);\n",
    "    Integrator.set_b(2);\n",
    "    assert(fabs(integrator.MidPoint(1, 2, 30)\n",
    "                - 0.9564934239032155) < 1e-7);\n",
    "}\n",
    "```"
   ]
  },
  {
   "cell_type": "markdown",
   "metadata": {},
   "source": [
    "### Errore del metodo mid-point"
   ]
  },
  {
   "cell_type": "markdown",
   "metadata": {},
   "source": [
    "Calcoliamo ora l'andamento dell'errore rispetto alla funzione di riferimento $f(x) = \\sin x$."
   ]
  },
  {
   "cell_type": "code",
   "execution_count": 9,
   "metadata": {},
   "outputs": [
    {
     "data": {
      "image/png": "[encoded data removed]",
      "text/plain": [
       "Figure(PyObject <Figure size 640x480 with 1 Axes>)"
      ]
     },
     "metadata": {},
     "output_type": "display_data"
    },
    {
     "data": {
      "text/plain": [
       "PyObject Text(24.0, 0.5, 'Errore')"
      ]
     },
     "execution_count": 9,
     "metadata": {},
     "output_type": "execute_result"
    }
   ],
   "source": [
    "steps = [10, 50, 100, 500, 1000]\n",
    "errors = [abs(midpoint(sin, 0, pi, n) - 2) for n in steps]\n",
    "\n",
    "plot(steps, errors, \"o-\")\n",
    "xlabel(\"Numero di passi\")\n",
    "ylabel(\"Errore\")"
   ]
  },
  {
   "cell_type": "markdown",
   "metadata": {},
   "source": [
    "Il grafico precedente non è chiaro perché ci sono escursioni di alcuni ordini di grandezza sia per la variabile $x$ che per la variabile $y$. Usiamo allora un grafico bilogaritmico, in cui si rappresentano i punti $(x', y') = (\\log x, \\log y)$ anziché $(x, y)$. Questo è l'ideale per i grafici di leggi del tipo $y = x^\\alpha$, come si vede da questi conti:\n",
    "$$\n",
    "\\begin{split}\n",
    "y &= C x^\\alpha,\\\\\n",
    "\\log y &= \\log \\bigl(C x^\\alpha\\bigr),\\\\\n",
    "\\log y &= \\alpha \\log x + \\log C,\\\\\n",
    "y' &= \\alpha x' + \\log C,\n",
    "\\end{split}\n",
    "$$\n",
    "che è della forma $y' = m x' + q$, ossia una retta, dove il coefficiente angolare $m$ è proprio $\\alpha$."
   ]
  },
  {
   "cell_type": "code",
   "execution_count": 10,
   "metadata": {},
   "outputs": [
    {
     "data": {
      "image/png": "[encoded data removed]",
      "text/plain": [
       "Figure(PyObject <Figure size 640x480 with 1 Axes>)"
      ]
     },
     "metadata": {},
     "output_type": "display_data"
    },
    {
     "data": {
      "text/plain": [
       "PyObject Text(24.000000000000007, 0.5, 'Errore')"
      ]
     },
     "execution_count": 10,
     "metadata": {},
     "output_type": "execute_result"
    }
   ],
   "source": [
    "loglog(steps, errors, \"o-\")\n",
    "xlabel(\"Numero di passi\")\n",
    "ylabel(\"Errore\")"
   ]
  },
  {
   "cell_type": "markdown",
   "metadata": {},
   "source": [
    "Nel vostro codice vorrete probabilmente usare ROOT per creare un grafico come questo. Siccome la realizzazione di grafici in ROOT può essere complessa, il mio consiglio è quello di stampare dapprima i numeri in un file (oppure a video, reindirizzando l'output da linea di comando con il carattere `>`), e poi fare una veloce visualizzazione con Gnuplot.\n",
    "\n",
    "Il programma Gnuplot è installato su tutti i computer del laboratorio, e si avvia da terminale eseguendo `gnuplot`. Dal prompt dei comandi potete creare un grafico come quello sopra scrivendo queste righe:\n",
    "\n",
    "    set logscale xy\n",
    "    plot 'dati.txt' using 1:2 with linespoints\n",
    "    \n",
    "Ovviamente il file `dati.txt` è quello generato dal vostro programma, e deve essere stato prodotto da un codice del genere:\n",
    "\n",
    "```c++\n",
    "std::vector<int> steps_list{10, 50, 100, 500, 1000};\n",
    "std::ofstream file;\n",
    "\n",
    "file.open(\"dati.txt\");\n",
    "\n",
    "for(int num_of_steps: steps_list) {\n",
    "    double error = …; // Calcolo in \"error\" l'errore di \"midpoint\"\n",
    "    \n",
    "    // Stampo il numero di passi, uno spazio vuoto, e l'errore\n",
    "    file << num_of_steps << \" \" << fabs(error) << \"\\n\";\n",
    "}\n",
    "```\n",
    "\n",
    "Quando avrete verificato che il plot è simile a quello mostrato sopra, potrete a questo punto implementare il codice per disegnare grafici con ROOT."
   ]
  },
  {
   "cell_type": "markdown",
   "metadata": {},
   "source": [
    "Implementiamo ora una funzione che consenta di calcolare rapidamente l'errore di una funzione di integrazione numerica per un dato numero di passi di integrazione: ci servirà per studiare non solo il metodo del mid-point, ma anche i metodi di Simpson e dei trapezi.\n",
    "\n",
    "Inizializziamo per prima cosa le costanti che caratterizzano il caso che useremo come esempio, $\\int_0^\\pi \\sin x\\,\\text{d}x = 2$: la funzione da integrare (`REF_FN`), gli estremi (`REF_A` e `REF_B`), e il valore esatto dell'integrale (`REF_INT`)."
   ]
  },
  {
   "cell_type": "code",
   "execution_count": 11,
   "metadata": {},
   "outputs": [],
   "source": [
    "const REF_FN = sin;  # La funzione da integrare\n",
    "const REF_A = 0;     # Estremo inferiore di integrazione\n",
    "const REF_B = pi;    # Estremo superiore di integrazione\n",
    "const REF_INT = 2.;  # Valore dell'integrale noto analiticamente"
   ]
  },
  {
   "cell_type": "markdown",
   "metadata": {},
   "source": [
    "La funzione `compute_errors` calcola il valore assoluto della differenza tra la stima dell'integrale con la funzione `fn` (che può essere ad esempio `midpoint`) e il valore vero dell'integrale, `REF_INT`."
   ]
  },
  {
   "cell_type": "code",
   "execution_count": 12,
   "metadata": {},
   "outputs": [
    {
     "data": {
      "text/plain": [
       "compute_errors (generic function with 1 method)"
      ]
     },
     "execution_count": 12,
     "metadata": {},
     "output_type": "execute_result"
    }
   ],
   "source": [
    "compute_errors(fn, steps) = [abs(fn(REF_FN, REF_A, REF_B, n) - REF_INT)\n",
    "                             for n in steps]"
   ]
  },
  {
   "cell_type": "markdown",
   "metadata": {},
   "source": [
    "Applichiamo `compute_errors` alla funzione `midpoint`:"
   ]
  },
  {
   "cell_type": "code",
   "execution_count": 13,
   "metadata": {},
   "outputs": [
    {
     "data": {
      "text/plain": [
       "5-element Array{Float64,1}:\n",
       " 0.008248407907974542\n",
       " 0.0003290246986251688\n",
       " 8.224907098597356e-5\n",
       " 3.2898719215523897e-6\n",
       " 8.224672694012725e-7"
      ]
     },
     "execution_count": 13,
     "metadata": {},
     "output_type": "execute_result"
    }
   ],
   "source": [
    "errors = compute_errors(midpoint, steps)"
   ]
  },
  {
   "cell_type": "markdown",
   "metadata": {},
   "source": [
    "Come ricavare la legge di potenza dovrebbe essere ovvio dal discorso fatto sopra circa i grafici bilogaritmici…"
   ]
  },
  {
   "cell_type": "code",
   "execution_count": 14,
   "metadata": {},
   "outputs": [
    {
     "data": {
      "text/plain": [
       "-2.0006257529986535"
      ]
     },
     "execution_count": 14,
     "metadata": {},
     "output_type": "execute_result"
    }
   ],
   "source": [
    "function error_slope(steps, errors)\n",
    "    deltax = log(steps[end]) - log(steps[1])\n",
    "    deltay = log(errors[end]) - log(errors[1])\n",
    "\n",
    "    deltay / deltax\n",
    "end\n",
    "\n",
    "error_slope(steps, errors)"
   ]
  },
  {
   "cell_type": "markdown",
   "metadata": {},
   "source": [
    "**Domanda 1**: È importante nell'implementazione di `error_slope` sopra fissare la base del logaritmo, oppure no? In altre parole, si ottengono risultati diversi se si usa $\\log_2$, $\\log_{10}$, o $\\ln$?\n",
    "\n",
    "**Domanda 2**: In quali casi l'implementazione di `error_slope` può dare valori scorretti?"
   ]
  },
  {
   "cell_type": "markdown",
   "metadata": {},
   "source": [
    "## Metodo di Simpson"
   ]
  },
  {
   "cell_type": "markdown",
   "metadata": {},
   "source": [
    "Si usa la formula\n",
    "$$\n",
    "\\int_a^b f(x)\\,\\text{d}x = \\left(\\frac13 f(x_0) + \\frac43 f(x_1) + \\frac23 f(x_2) + \\ldots + \\frac43 f(x_{N - 2}) + \\frac13 f(x_{N - 1})\\right) h,\n",
    "$$\n",
    "con $x_k = a + kh$."
   ]
  },
  {
   "cell_type": "markdown",
   "metadata": {},
   "source": [
    "Come sopra, implementiamo l'algoritmo senza definire classi, ma scrivendo direttamente una funzione."
   ]
  },
  {
   "cell_type": "code",
   "execution_count": 15,
   "metadata": {},
   "outputs": [
    {
     "data": {
      "text/plain": [
       "simpson (generic function with 1 method)"
      ]
     },
     "execution_count": 15,
     "metadata": {},
     "output_type": "execute_result"
    }
   ],
   "source": [
    "function simpson(f, a, b, n::Integer)\n",
    "    # Siccome il metodo funziona solo quando il numero di\n",
    "    # intervalli è pari, usiamo \"truen\" anziché \"n\" nei\n",
    "    # calcoli sotto\n",
    "    truen = (n % 2 == 0) ? n : (n + 1)\n",
    "    \n",
    "    h = (b - a) / truen\n",
    "    acc = 1/3 * (f(a) + f(b))\n",
    "    for k = 1:(truen - 1)\n",
    "        acc += 2/3 * (1 + k % 2) * f(a + k * h)\n",
    "    end\n",
    "    \n",
    "    acc * h\n",
    "end"
   ]
  },
  {
   "cell_type": "markdown",
   "metadata": {},
   "source": [
    "Verifichiamone il funzionamento sul nostro caso di riferimento. Anche questi numeri sono utili per implementare degli `assert` nel vostro codice C++; in particolare, il metodo di Simpson tratta in modo diverso gli estremi $f(a)$ e $f(b)$, quindi il secondo e il terzo test sono particolarmente importanti!"
   ]
  },
  {
   "cell_type": "code",
   "execution_count": 16,
   "metadata": {},
   "outputs": [
    {
     "data": {
      "text/plain": [
       "2.0001095173150043"
      ]
     },
     "execution_count": 16,
     "metadata": {},
     "output_type": "execute_result"
    }
   ],
   "source": [
    "simpson(sin, 0, pi, 10)"
   ]
  },
  {
   "cell_type": "code",
   "execution_count": 17,
   "metadata": {},
   "outputs": [
    {
     "data": {
      "text/plain": [
       "2.000000010824504"
      ]
     },
     "execution_count": 17,
     "metadata": {},
     "output_type": "execute_result"
    }
   ],
   "source": [
    "simpson(sin, 0, pi, 100)"
   ]
  },
  {
   "cell_type": "code",
   "execution_count": 18,
   "metadata": {},
   "outputs": [
    {
     "data": {
      "text/plain": [
       "0.45969794982382056"
      ]
     },
     "execution_count": 18,
     "metadata": {},
     "output_type": "execute_result"
    }
   ],
   "source": [
    "simpson(sin, 0, 1, 10)"
   ]
  },
  {
   "cell_type": "code",
   "execution_count": 20,
   "metadata": {},
   "outputs": [
    {
     "data": {
      "text/plain": [
       "0.9564491489761575"
      ]
     },
     "execution_count": 20,
     "metadata": {},
     "output_type": "execute_result"
    }
   ],
   "source": [
    "simpson(sin, 1, 2, 30)"
   ]
  },
  {
   "cell_type": "code",
   "execution_count": 21,
   "metadata": {},
   "outputs": [
    {
     "data": {
      "image/png": "[encoded data removed]",
      "text/plain": [
       "Figure(PyObject <Figure size 640x480 with 1 Axes>)"
      ]
     },
     "metadata": {},
     "output_type": "display_data"
    },
    {
     "data": {
      "text/plain": [
       "PyObject Text(24.000000000000007, 0.5, 'Errore')"
      ]
     },
     "execution_count": 21,
     "metadata": {},
     "output_type": "execute_result"
    }
   ],
   "source": [
    "errors = compute_errors(simpson, steps)\n",
    "\n",
    "loglog(steps, errors, \"o-\")\n",
    "xlabel(\"Numero di passi\")\n",
    "ylabel(\"Errore\")"
   ]
  },
  {
   "cell_type": "code",
   "execution_count": 22,
   "metadata": {},
   "outputs": [
    {
     "data": {
      "text/plain": [
       "-4.002400383183911"
      ]
     },
     "execution_count": 22,
     "metadata": {},
     "output_type": "execute_result"
    }
   ],
   "source": [
    "error_slope(steps, errors)"
   ]
  },
  {
   "cell_type": "markdown",
   "metadata": {},
   "source": [
    "## Metodo dei trapezoidi"
   ]
  },
  {
   "cell_type": "markdown",
   "metadata": {},
   "source": [
    "In questo caso si approssima l'integrale con l'area del trapezio."
   ]
  },
  {
   "cell_type": "code",
   "execution_count": 23,
   "metadata": {},
   "outputs": [
    {
     "data": {
      "text/plain": [
       "trapezoids (generic function with 1 method)"
      ]
     },
     "execution_count": 23,
     "metadata": {},
     "output_type": "execute_result"
    }
   ],
   "source": [
    "function trapezoids(f, a, b, n::Integer)\n",
    "    h = (b - a) / n\n",
    "    acc = (f(a) + f(b)) / 2\n",
    "    for k in 1:(n - 1)\n",
    "        acc += f(a + k * h)\n",
    "    end\n",
    "    \n",
    "    acc * h\n",
    "end"
   ]
  },
  {
   "cell_type": "code",
   "execution_count": 24,
   "metadata": {},
   "outputs": [
    {
     "data": {
      "text/plain": [
       "1.9835235375094546"
      ]
     },
     "execution_count": 24,
     "metadata": {},
     "output_type": "execute_result"
    }
   ],
   "source": [
    "trapezoids(sin, 0, pi, 10)"
   ]
  },
  {
   "cell_type": "code",
   "execution_count": 25,
   "metadata": {},
   "outputs": [
    {
     "data": {
      "text/plain": [
       "1.9998355038874436"
      ]
     },
     "execution_count": 25,
     "metadata": {},
     "output_type": "execute_result"
    }
   ],
   "source": [
    "trapezoids(sin, 0, pi, 100)"
   ]
  },
  {
   "cell_type": "code",
   "execution_count": 26,
   "metadata": {},
   "outputs": [
    {
     "data": {
      "text/plain": [
       "0.45931454885797635"
      ]
     },
     "execution_count": 26,
     "metadata": {},
     "output_type": "execute_result"
    }
   ],
   "source": [
    "trapezoids(sin, 0, 1, 10)"
   ]
  },
  {
   "cell_type": "code",
   "execution_count": 27,
   "metadata": {},
   "outputs": [
    {
     "data": {
      "text/plain": [
       "0.956360580669458"
      ]
     },
     "execution_count": 27,
     "metadata": {},
     "output_type": "execute_result"
    }
   ],
   "source": [
    "trapezoids(sin, 1, 2, 30)"
   ]
  },
  {
   "cell_type": "code",
   "execution_count": 25,
   "metadata": {},
   "outputs": [
    {
     "data": {
      "image/png": "[encoded data removed]",
      "text/plain": [
       "Figure(PyObject <Figure size 640x480 with 1 Axes>)"
      ]
     },
     "metadata": {},
     "output_type": "display_data"
    },
    {
     "data": {
      "text/plain": [
       "PyObject Text(24.000000000000007, 0.5, 'Errore')"
      ]
     },
     "execution_count": 25,
     "metadata": {},
     "output_type": "execute_result"
    }
   ],
   "source": [
    "errors = compute_errors(trapezoids, steps)\n",
    "loglog(steps, errors, \"o-\")\n",
    "xlabel(\"Numero di passi\")\n",
    "ylabel(\"Errore\")"
   ]
  },
  {
   "cell_type": "code",
   "execution_count": 26,
   "metadata": {},
   "outputs": [
    {
     "data": {
      "text/plain": [
       "-2.000357703753135"
      ]
     },
     "execution_count": 26,
     "metadata": {},
     "output_type": "execute_result"
    }
   ],
   "source": [
    "error_slope(steps, errors)"
   ]
  },
  {
   "cell_type": "markdown",
   "metadata": {},
   "source": [
    "Tracciamo ora un grafico comparativo dei due metodi. È importante notare ancora una volta che qui stiamo usando il polimorfismo senza usare classi né metodi `virtual`. La funzione `compute_errors` infatti adatta il proprio comportamento a seconda della funzione che le viene passata come argomento (sia essa `midpoint`, `simpson`, o `trapezoids`).\n",
    "\n",
    "Notate che anche in C++ è possibile avere polimorfismo senza usare classi, usando i template. Ma c'è una differenza importante: il polimorfismo con le classi è realizzato in fase di _runtime_ in C++, mentre quello con i template è realizzato in fase di _compilazione_. In Julia non c'è una distinzione rigida, e a seconda dei casi il compilatore sceglie se implementare il polimorfismo in fase di compilazione o runtime."
   ]
  },
  {
   "cell_type": "code",
   "execution_count": 27,
   "metadata": {},
   "outputs": [
    {
     "data": {
      "image/png": "[encoded data removed]",
      "text/plain": [
       "Figure(PyObject <Figure size 640x480 with 1 Axes>)"
      ]
     },
     "metadata": {},
     "output_type": "display_data"
    }
   ],
   "source": [
    "for (label, fn) in [\n",
    "    (\"Mid-point\", midpoint),\n",
    "    (\"Trapezoids\", trapezoids),\n",
    "    (\"Simpson\", simpson),\n",
    "]\n",
    "    # All'interno di questo ciclo \"for\" sono definite le\n",
    "    # due variabili \"label\" e \"fn\", che assumono uno dopo l'altro\n",
    "    # il valore delle coppie elencate sopra tra parentesi. Notate\n",
    "    # come in Julia sia semplicissimo iterare addirittura su liste\n",
    "    # che contengono funzioni!\n",
    "    loglog(steps, compute_errors(fn, steps), \"o-\", label=label)\n",
    "end\n",
    "\n",
    "xlabel(\"Numero di passi\")\n",
    "ylabel(\"Errore\")\n",
    "legend();"
   ]
  },
  {
   "cell_type": "markdown",
   "metadata": {},
   "source": [
    "Notate che il metodo del mid-point e dei trapezi hanno la stessa legge di scala, ma non si sovrappongono: la costante $C$ nella legge di scala $\\epsilon = C n^{-\\alpha}$ è diversa (e quindi è diversa l'intercetta $q = \\log C$ nel grafico bilogaritmico)."
   ]
  },
  {
   "cell_type": "markdown",
   "metadata": {},
   "source": [
    "## Ricerca della precisione"
   ]
  },
  {
   "cell_type": "markdown",
   "metadata": {},
   "source": [
    "L'esercizio 8.2 è diverso dagli esercizi 8.0 e 8.1, perché richiede di iterare il calcolo finché non si raggiunge una precisione fissata. Usiamo il suggerimento del testo per non dover ricalcolare da capo il valore approssimato dell'integrale.\n",
    "\n",
    "Sfruttiamo la capacità di Julia di esprimere sequenze con la sintassi `start:delta:end`:"
   ]
  },
  {
   "cell_type": "code",
   "execution_count": 28,
   "metadata": {},
   "outputs": [
    {
     "data": {
      "text/plain": [
       "5-element Array{Int64,1}:\n",
       " 1\n",
       " 3\n",
       " 5\n",
       " 7\n",
       " 9"
      ]
     },
     "execution_count": 28,
     "metadata": {},
     "output_type": "execute_result"
    }
   ],
   "source": [
    "collect(1:2:10)"
   ]
  },
  {
   "cell_type": "markdown",
   "metadata": {},
   "source": [
    "Ora appare chiaro perché nell'implementare `midpoint`, `simpsons` e `trapezoids` sopra avevamo dichiarato esplicitamente il tipo dell'ultimo parametro, `n`: in questo caso vogliamo infatti invocare `trapezoids` usando la precisione, che indichiamo col tipo `AbstractFloat`, analogo a una classe astratta C++ da cui derivano i tipi floating-point, come `Float16`, `Float32`, e `Float64`."
   ]
  },
  {
   "cell_type": "code",
   "execution_count": 29,
   "metadata": {},
   "outputs": [
    {
     "data": {
      "text/plain": [
       "trapezoids (generic function with 2 methods)"
      ]
     },
     "execution_count": 29,
     "metadata": {},
     "output_type": "execute_result"
    }
   ],
   "source": [
    "function trapezoids(f, a, b, prec::AbstractFloat)\n",
    "    n = 2\n",
    "    \n",
    "    h = (b - a) / n\n",
    "    # Valore dell'integrale nel caso n = 2\n",
    "    acc = (f(a) + f(b)) / 2 + f((a + b) / 2)\n",
    "    newint = acc * h\n",
    "    while true\n",
    "        oldint = newint\n",
    "        n *= 2\n",
    "        h /= 2\n",
    "        \n",
    "        for k in 1:2:(n - 1) # Itera solo sui numeri dispari\n",
    "            acc += f(a + k * h)\n",
    "        end\n",
    "        \n",
    "        newint = acc * h\n",
    "        # 4//3 è la frazione 4/3 in Julia\n",
    "        if 4//3 * abs(newint - oldint) < prec\n",
    "            break\n",
    "        end\n",
    "    end\n",
    "    \n",
    "    newint\n",
    "end"
   ]
  },
  {
   "cell_type": "markdown",
   "metadata": {},
   "source": [
    "Notate che dopo aver compilato la definizione precedente, Julia ha scritto `trapezoids (generic function with 2 methods)`. Ha quindi capito che abbiamo fornito una nuova implementazione di `trapezoids`, e non ha quindi sovrascritto la vecchia (che accettava come ultimo argomento un intero, ossia il numero di passaggi)."
   ]
  },
  {
   "cell_type": "markdown",
   "metadata": {},
   "source": [
    "Per verificare il funzionamento della nuova funzione `trapezoids`, possiamo verificare che l'integrale calcolato sulla nostra funzione di riferimento $f(x) = \\sin x$ abbia un errore sempre inferiore alla precisione richiesta."
   ]
  },
  {
   "cell_type": "code",
   "execution_count": 30,
   "metadata": {},
   "outputs": [
    {
     "data": {
      "image/png": "[encoded data removed]",
      "text/plain": [
       "Figure(PyObject <Figure size 640x480 with 1 Axes>)"
      ]
     },
     "metadata": {},
     "output_type": "display_data"
    }
   ],
   "source": [
    "prec = [1e-1, 1e-2, 1e-3, 1e-4, 1e-5]\n",
    "errors = [abs(trapezoids(REF_FN, REF_A, REF_B, eps) - REF_INT)\n",
    "          for eps in prec]\n",
    "\n",
    "loglog(prec, errors, \"o-\", label=\"Misurato\")\n",
    "loglog(prec, prec, \"o-\", label=\"Caso teorico peggiore\")\n",
    "xlabel(\"Precisione impostata\")\n",
    "ylabel(\"Precisione ottenuta\")\n",
    "legend();"
   ]
  }
 ],
 "metadata": {
  "@webio": {
   "lastCommId": "f23cf592cae945128b7901f7f98824f7",
   "lastKernelId": "4f2f8174-c2dc-4dce-b81d-c15f89b8bede"
  },
  "kernelspec": {
   "display_name": "Julia 1.5.2",
   "language": "julia",
   "name": "julia-1.5"
  },
  "language_info": {
   "file_extension": ".jl",
   "mimetype": "application/julia",
   "name": "julia",
   "version": "1.5.2"
  }
 },
 "nbformat": 4,
 "nbformat_minor": 4
}
